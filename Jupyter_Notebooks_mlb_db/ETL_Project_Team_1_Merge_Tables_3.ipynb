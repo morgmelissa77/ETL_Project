{
 "cells": [
  {
   "cell_type": "markdown",
   "metadata": {},
   "source": [
    "### ETL_Project_Team_1\n",
    "* WinsLosses & Salary Table - Clean & Merge Data"
   ]
  },
  {
   "cell_type": "code",
   "execution_count": 1,
   "metadata": {},
   "outputs": [],
   "source": [
    "# import dependencies\n",
    "import pandas as pd\n",
    "from sqlalchemy import create_engine"
   ]
  },
  {
   "cell_type": "code",
   "execution_count": 2,
   "metadata": {},
   "outputs": [],
   "source": [
    "# Establish connection with database\n",
    "rds_connection_string = \"postgres:smitty77@localhost:5432/mlb_db\"\n",
    "engine = create_engine(f'postgresql://{rds_connection_string}')"
   ]
  },
  {
   "cell_type": "code",
   "execution_count": 24,
   "metadata": {},
   "outputs": [
    {
     "data": {
      "text/plain": [
       "['winslosses',\n",
       " 'attendance',\n",
       " 'revenue',\n",
       " 'payroll',\n",
       " 'salary',\n",
       " 'avgticketprice',\n",
       " 'looktable',\n",
       " 'capacityattendance',\n",
       " 'capacity',\n",
       " 'revenueprice']"
      ]
     },
     "execution_count": 24,
     "metadata": {},
     "output_type": "execute_result"
    }
   ],
   "source": [
    "# see what tables exist in database\n",
    "engine.table_names()"
   ]
  },
  {
   "cell_type": "code",
   "execution_count": 3,
   "metadata": {},
   "outputs": [
    {
     "data": {
      "text/html": [
       "<div>\n",
       "<style scoped>\n",
       "    .dataframe tbody tr th:only-of-type {\n",
       "        vertical-align: middle;\n",
       "    }\n",
       "\n",
       "    .dataframe tbody tr th {\n",
       "        vertical-align: top;\n",
       "    }\n",
       "\n",
       "    .dataframe thead th {\n",
       "        text-align: right;\n",
       "    }\n",
       "</style>\n",
       "<table border=\"1\" class=\"dataframe\">\n",
       "  <thead>\n",
       "    <tr style=\"text-align: right;\">\n",
       "      <th></th>\n",
       "      <th>rank</th>\n",
       "      <th>team_shortname</th>\n",
       "      <th>opening_day</th>\n",
       "      <th>current</th>\n",
       "      <th>diff</th>\n",
       "      <th>avg_salary</th>\n",
       "      <th>median</th>\n",
       "    </tr>\n",
       "    <tr>\n",
       "      <th>team_key</th>\n",
       "      <th></th>\n",
       "      <th></th>\n",
       "      <th></th>\n",
       "      <th></th>\n",
       "      <th></th>\n",
       "      <th></th>\n",
       "      <th></th>\n",
       "    </tr>\n",
       "  </thead>\n",
       "  <tbody>\n",
       "    <tr>\n",
       "      <td>5</td>\n",
       "      <td>6</td>\n",
       "      <td>Angels</td>\n",
       "      <td>177328583</td>\n",
       "      <td>177328583</td>\n",
       "      <td>--</td>\n",
       "      <td>5373593</td>\n",
       "      <td>1400000</td>\n",
       "    </tr>\n",
       "    <tr>\n",
       "      <td>9</td>\n",
       "      <td>8</td>\n",
       "      <td>Astros</td>\n",
       "      <td>165653000</td>\n",
       "      <td>165653000</td>\n",
       "      <td>--</td>\n",
       "      <td>6135296</td>\n",
       "      <td>4500000</td>\n",
       "    </tr>\n",
       "    <tr>\n",
       "      <td>24</td>\n",
       "      <td>23</td>\n",
       "      <td>Athletics</td>\n",
       "      <td>102545000</td>\n",
       "      <td>102545000</td>\n",
       "      <td>--</td>\n",
       "      <td>3107424</td>\n",
       "      <td>1400000</td>\n",
       "    </tr>\n",
       "    <tr>\n",
       "      <td>22</td>\n",
       "      <td>28</td>\n",
       "      <td>Blue Jays</td>\n",
       "      <td>71228671</td>\n",
       "      <td>71228671</td>\n",
       "      <td>--</td>\n",
       "      <td>2225896</td>\n",
       "      <td>1100000</td>\n",
       "    </tr>\n",
       "    <tr>\n",
       "      <td>12</td>\n",
       "      <td>17</td>\n",
       "      <td>Braves</td>\n",
       "      <td>117855753</td>\n",
       "      <td>117855753</td>\n",
       "      <td>--</td>\n",
       "      <td>4063991</td>\n",
       "      <td>1250000</td>\n",
       "    </tr>\n",
       "  </tbody>\n",
       "</table>\n",
       "</div>"
      ],
      "text/plain": [
       "          rank team_shortname  opening_day    current diff  avg_salary  \\\n",
       "team_key                                                                 \n",
       "5            6         Angels    177328583  177328583   --     5373593   \n",
       "9            8         Astros    165653000  165653000   --     6135296   \n",
       "24          23      Athletics    102545000  102545000   --     3107424   \n",
       "22          28      Blue Jays     71228671   71228671   --     2225896   \n",
       "12          17         Braves    117855753  117855753   --     4063991   \n",
       "\n",
       "           median  \n",
       "team_key           \n",
       "5         1400000  \n",
       "9         4500000  \n",
       "24        1400000  \n",
       "22        1100000  \n",
       "12        1250000  "
      ]
     },
     "execution_count": 3,
     "metadata": {},
     "output_type": "execute_result"
    }
   ],
   "source": [
    "# pull in the salary table\n",
    "salary = pd.read_sql_query('Select * From salary', con=engine)\n",
    "salary_df = pd.DataFrame(salary).set_index(\"team_key\")\n",
    "salary_df.head()"
   ]
  },
  {
   "cell_type": "code",
   "execution_count": 4,
   "metadata": {},
   "outputs": [
    {
     "data": {
      "text/html": [
       "<div>\n",
       "<style scoped>\n",
       "    .dataframe tbody tr th:only-of-type {\n",
       "        vertical-align: middle;\n",
       "    }\n",
       "\n",
       "    .dataframe tbody tr th {\n",
       "        vertical-align: top;\n",
       "    }\n",
       "\n",
       "    .dataframe thead th {\n",
       "        text-align: right;\n",
       "    }\n",
       "</style>\n",
       "<table border=\"1\" class=\"dataframe\">\n",
       "  <thead>\n",
       "    <tr style=\"text-align: right;\">\n",
       "      <th></th>\n",
       "      <th>team_shortname</th>\n",
       "      <th>current_salary</th>\n",
       "      <th>avg_salary</th>\n",
       "      <th>median_salary</th>\n",
       "    </tr>\n",
       "    <tr>\n",
       "      <th>team_key</th>\n",
       "      <th></th>\n",
       "      <th></th>\n",
       "      <th></th>\n",
       "      <th></th>\n",
       "    </tr>\n",
       "  </thead>\n",
       "  <tbody>\n",
       "    <tr>\n",
       "      <td>5</td>\n",
       "      <td>Angels</td>\n",
       "      <td>177328583</td>\n",
       "      <td>5373593</td>\n",
       "      <td>1400000</td>\n",
       "    </tr>\n",
       "    <tr>\n",
       "      <td>9</td>\n",
       "      <td>Astros</td>\n",
       "      <td>165653000</td>\n",
       "      <td>6135296</td>\n",
       "      <td>4500000</td>\n",
       "    </tr>\n",
       "    <tr>\n",
       "      <td>24</td>\n",
       "      <td>Athletics</td>\n",
       "      <td>102545000</td>\n",
       "      <td>3107424</td>\n",
       "      <td>1400000</td>\n",
       "    </tr>\n",
       "    <tr>\n",
       "      <td>22</td>\n",
       "      <td>Blue Jays</td>\n",
       "      <td>71228671</td>\n",
       "      <td>2225896</td>\n",
       "      <td>1100000</td>\n",
       "    </tr>\n",
       "    <tr>\n",
       "      <td>12</td>\n",
       "      <td>Braves</td>\n",
       "      <td>117855753</td>\n",
       "      <td>4063991</td>\n",
       "      <td>1250000</td>\n",
       "    </tr>\n",
       "  </tbody>\n",
       "</table>\n",
       "</div>"
      ],
      "text/plain": [
       "         team_shortname  current_salary  avg_salary  median_salary\n",
       "team_key                                                          \n",
       "5                Angels       177328583     5373593        1400000\n",
       "9                Astros       165653000     6135296        4500000\n",
       "24            Athletics       102545000     3107424        1400000\n",
       "22            Blue Jays        71228671     2225896        1100000\n",
       "12               Braves       117855753     4063991        1250000"
      ]
     },
     "execution_count": 4,
     "metadata": {},
     "output_type": "execute_result"
    }
   ],
   "source": [
    "# Select Columns to Keep & Rename Columns\n",
    "salary_df_clean = salary_df[[\"team_shortname\", \"current\", \"avg_salary\", \"median\"]].rename(columns={\"current\": \"current_salary\", \"median\": \"median_salary\"})\n",
    "salary_df_clean.head()"
   ]
  },
  {
   "cell_type": "code",
   "execution_count": 5,
   "metadata": {},
   "outputs": [
    {
     "data": {
      "text/html": [
       "<div>\n",
       "<style scoped>\n",
       "    .dataframe tbody tr th:only-of-type {\n",
       "        vertical-align: middle;\n",
       "    }\n",
       "\n",
       "    .dataframe tbody tr th {\n",
       "        vertical-align: top;\n",
       "    }\n",
       "\n",
       "    .dataframe thead th {\n",
       "        text-align: right;\n",
       "    }\n",
       "</style>\n",
       "<table border=\"1\" class=\"dataframe\">\n",
       "  <thead>\n",
       "    <tr style=\"text-align: right;\">\n",
       "      <th></th>\n",
       "      <th>team_longname</th>\n",
       "      <th>payroll_openingday</th>\n",
       "    </tr>\n",
       "    <tr>\n",
       "      <th>team_key</th>\n",
       "      <th></th>\n",
       "      <th></th>\n",
       "    </tr>\n",
       "  </thead>\n",
       "  <tbody>\n",
       "    <tr>\n",
       "      <td>17</td>\n",
       "      <td>Arizona Diamondbacks</td>\n",
       "      <td>107.58</td>\n",
       "    </tr>\n",
       "    <tr>\n",
       "      <td>12</td>\n",
       "      <td>Atlanta Braves</td>\n",
       "      <td>110.53</td>\n",
       "    </tr>\n",
       "    <tr>\n",
       "      <td>28</td>\n",
       "      <td>Baltimore Orioles</td>\n",
       "      <td>67.37</td>\n",
       "    </tr>\n",
       "    <tr>\n",
       "      <td>7</td>\n",
       "      <td>Boston Red Sox</td>\n",
       "      <td>213.19</td>\n",
       "    </tr>\n",
       "    <tr>\n",
       "      <td>4</td>\n",
       "      <td>Chicago Cubs</td>\n",
       "      <td>208.20</td>\n",
       "    </tr>\n",
       "  </tbody>\n",
       "</table>\n",
       "</div>"
      ],
      "text/plain": [
       "                 team_longname  payroll_openingday\n",
       "team_key                                          \n",
       "17        Arizona Diamondbacks              107.58\n",
       "12              Atlanta Braves              110.53\n",
       "28           Baltimore Orioles               67.37\n",
       "7               Boston Red Sox              213.19\n",
       "4                 Chicago Cubs              208.20"
      ]
     },
     "execution_count": 5,
     "metadata": {},
     "output_type": "execute_result"
    }
   ],
   "source": [
    "# pull in the payroll table\n",
    "payroll = pd.read_sql_query('Select * From payroll', con=engine)\n",
    "payroll_df = pd.DataFrame(payroll).set_index(\"team_key\")\n",
    "payroll_df.head()"
   ]
  },
  {
   "cell_type": "code",
   "execution_count": 6,
   "metadata": {},
   "outputs": [
    {
     "data": {
      "text/html": [
       "<div>\n",
       "<style scoped>\n",
       "    .dataframe tbody tr th:only-of-type {\n",
       "        vertical-align: middle;\n",
       "    }\n",
       "\n",
       "    .dataframe tbody tr th {\n",
       "        vertical-align: top;\n",
       "    }\n",
       "\n",
       "    .dataframe thead th {\n",
       "        text-align: right;\n",
       "    }\n",
       "</style>\n",
       "<table border=\"1\" class=\"dataframe\">\n",
       "  <thead>\n",
       "    <tr style=\"text-align: right;\">\n",
       "      <th></th>\n",
       "      <th>team_shortname</th>\n",
       "      <th>current_salary</th>\n",
       "      <th>avg_salary</th>\n",
       "      <th>median_salary</th>\n",
       "      <th>team_longname</th>\n",
       "      <th>payroll_openingday</th>\n",
       "    </tr>\n",
       "    <tr>\n",
       "      <th>team_key</th>\n",
       "      <th></th>\n",
       "      <th></th>\n",
       "      <th></th>\n",
       "      <th></th>\n",
       "      <th></th>\n",
       "      <th></th>\n",
       "    </tr>\n",
       "  </thead>\n",
       "  <tbody>\n",
       "    <tr>\n",
       "      <td>5</td>\n",
       "      <td>Angels</td>\n",
       "      <td>177328583</td>\n",
       "      <td>5373593</td>\n",
       "      <td>1400000</td>\n",
       "      <td>Los Angeles Angels</td>\n",
       "      <td>167.46</td>\n",
       "    </tr>\n",
       "    <tr>\n",
       "      <td>9</td>\n",
       "      <td>Astros</td>\n",
       "      <td>165653000</td>\n",
       "      <td>6135296</td>\n",
       "      <td>4500000</td>\n",
       "      <td>Houston Astros</td>\n",
       "      <td>177.44</td>\n",
       "    </tr>\n",
       "    <tr>\n",
       "      <td>24</td>\n",
       "      <td>Athletics</td>\n",
       "      <td>102545000</td>\n",
       "      <td>3107424</td>\n",
       "      <td>1400000</td>\n",
       "      <td>Oakland Athletics</td>\n",
       "      <td>96.83</td>\n",
       "    </tr>\n",
       "    <tr>\n",
       "      <td>22</td>\n",
       "      <td>Blue Jays</td>\n",
       "      <td>71228671</td>\n",
       "      <td>2225896</td>\n",
       "      <td>1100000</td>\n",
       "      <td>Toronto Blue Jays</td>\n",
       "      <td>66.63</td>\n",
       "    </tr>\n",
       "    <tr>\n",
       "      <td>12</td>\n",
       "      <td>Braves</td>\n",
       "      <td>117855753</td>\n",
       "      <td>4063991</td>\n",
       "      <td>1250000</td>\n",
       "      <td>Atlanta Braves</td>\n",
       "      <td>110.53</td>\n",
       "    </tr>\n",
       "  </tbody>\n",
       "</table>\n",
       "</div>"
      ],
      "text/plain": [
       "         team_shortname  current_salary  avg_salary  median_salary  \\\n",
       "team_key                                                             \n",
       "5                Angels       177328583     5373593        1400000   \n",
       "9                Astros       165653000     6135296        4500000   \n",
       "24            Athletics       102545000     3107424        1400000   \n",
       "22            Blue Jays        71228671     2225896        1100000   \n",
       "12               Braves       117855753     4063991        1250000   \n",
       "\n",
       "               team_longname  payroll_openingday  \n",
       "team_key                                          \n",
       "5         Los Angeles Angels              167.46  \n",
       "9             Houston Astros              177.44  \n",
       "24         Oakland Athletics               96.83  \n",
       "22         Toronto Blue Jays               66.63  \n",
       "12            Atlanta Braves              110.53  "
      ]
     },
     "execution_count": 6,
     "metadata": {},
     "output_type": "execute_result"
    }
   ],
   "source": [
    "# merge the cleaned up salary df with the payroll df\n",
    "merged_salary = pd.merge(salary_df_clean, payroll_df, on=\"team_key\")\n",
    "merged_salary.head()"
   ]
  },
  {
   "cell_type": "code",
   "execution_count": 30,
   "metadata": {},
   "outputs": [],
   "source": [
    "# push the new table to the database\n",
    "merged_salary.to_sql(name='teamsalary', con=engine, if_exists='append', index=True)"
   ]
  },
  {
   "cell_type": "code",
   "execution_count": 7,
   "metadata": {},
   "outputs": [
    {
     "name": "stdout",
     "output_type": "stream",
     "text": [
      "<class 'pandas.core.frame.DataFrame'>\n",
      "Int64Index: 30 entries, 5 to 3\n",
      "Data columns (total 6 columns):\n",
      "team_shortname        30 non-null object\n",
      "current_salary        30 non-null int64\n",
      "avg_salary            30 non-null int64\n",
      "median_salary         30 non-null int64\n",
      "team_longname         30 non-null object\n",
      "payroll_openingday    30 non-null float64\n",
      "dtypes: float64(1), int64(3), object(2)\n",
      "memory usage: 1.6+ KB\n"
     ]
    }
   ],
   "source": [
    "merged_salary.info()"
   ]
  },
  {
   "cell_type": "code",
   "execution_count": 8,
   "metadata": {},
   "outputs": [
    {
     "data": {
      "text/plain": [
       "['winslosses',\n",
       " 'revenue',\n",
       " 'payroll',\n",
       " 'salary',\n",
       " 'avgticketprice',\n",
       " 'looktable',\n",
       " 'teamsalary',\n",
       " 'capacity',\n",
       " 'attendance',\n",
       " 'revenueprice',\n",
       " 'capacityattendance']"
      ]
     },
     "execution_count": 8,
     "metadata": {},
     "output_type": "execute_result"
    }
   ],
   "source": [
    "# double check that it made it -- it did!! \n",
    "engine.table_names()"
   ]
  },
  {
   "cell_type": "code",
   "execution_count": 9,
   "metadata": {},
   "outputs": [],
   "source": [
    "# Export file as a CSV, without the Pandas index, but with the header\n",
    "merged_salary.to_csv(\"teamsalary.csv\", index=False, header=True)"
   ]
  },
  {
   "cell_type": "code",
   "execution_count": null,
   "metadata": {},
   "outputs": [],
   "source": []
  }
 ],
 "metadata": {
  "kernelspec": {
   "display_name": "Python 3",
   "language": "python",
   "name": "python3"
  },
  "language_info": {
   "codemirror_mode": {
    "name": "ipython",
    "version": 3
   },
   "file_extension": ".py",
   "mimetype": "text/x-python",
   "name": "python",
   "nbconvert_exporter": "python",
   "pygments_lexer": "ipython3",
   "version": "3.6.9"
  }
 },
 "nbformat": 4,
 "nbformat_minor": 2
}
