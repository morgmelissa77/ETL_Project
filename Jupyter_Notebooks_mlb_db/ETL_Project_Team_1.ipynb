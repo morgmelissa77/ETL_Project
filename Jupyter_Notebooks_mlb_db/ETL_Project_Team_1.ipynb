{
 "cells": [
  {
   "cell_type": "markdown",
   "metadata": {},
   "source": [
    "### ETL_Project_Team_1\n",
    "* Goal:  Add two new datasets to the database (Stadium Capacity & Average Ticket Price)"
   ]
  },
  {
   "cell_type": "code",
   "execution_count": 1,
   "metadata": {},
   "outputs": [],
   "source": [
    "# import dependencies\n",
    "import pandas as pd\n",
    "from sqlalchemy import create_engine"
   ]
  },
  {
   "cell_type": "markdown",
   "metadata": {},
   "source": [
    "### Add Stadium Capacity table to database 'mlb_db'"
   ]
  },
  {
   "cell_type": "code",
   "execution_count": 2,
   "metadata": {
    "scrolled": true
   },
   "outputs": [
    {
     "data": {
      "text/html": [
       "<div>\n",
       "<style scoped>\n",
       "    .dataframe tbody tr th:only-of-type {\n",
       "        vertical-align: middle;\n",
       "    }\n",
       "\n",
       "    .dataframe tbody tr th {\n",
       "        vertical-align: top;\n",
       "    }\n",
       "\n",
       "    .dataframe thead th {\n",
       "        text-align: right;\n",
       "    }\n",
       "</style>\n",
       "<table border=\"1\" class=\"dataframe\">\n",
       "  <thead>\n",
       "    <tr style=\"text-align: right;\">\n",
       "      <th></th>\n",
       "      <th>Name</th>\n",
       "      <th>Capacity</th>\n",
       "      <th>Location</th>\n",
       "      <th>Surface</th>\n",
       "      <th>Team_LongName</th>\n",
       "      <th>Opened</th>\n",
       "      <th>Distance to center field</th>\n",
       "      <th>Type</th>\n",
       "      <th>Roof type</th>\n",
       "    </tr>\n",
       "  </thead>\n",
       "  <tbody>\n",
       "    <tr>\n",
       "      <td>0</td>\n",
       "      <td>Angel Stadium</td>\n",
       "      <td>45517</td>\n",
       "      <td>Anaheim, California</td>\n",
       "      <td>Grass</td>\n",
       "      <td>Los Angeles Angels</td>\n",
       "      <td>1966</td>\n",
       "      <td>396 feet (121 m)</td>\n",
       "      <td>Modern</td>\n",
       "      <td>Open</td>\n",
       "    </tr>\n",
       "    <tr>\n",
       "      <td>1</td>\n",
       "      <td>Busch Stadium</td>\n",
       "      <td>45494</td>\n",
       "      <td>St. Louis, Missouri</td>\n",
       "      <td>Grass</td>\n",
       "      <td>St. Louis Cardinals</td>\n",
       "      <td>2006</td>\n",
       "      <td>400 feet (122 m)</td>\n",
       "      <td>Retro-classic</td>\n",
       "      <td>Open</td>\n",
       "    </tr>\n",
       "    <tr>\n",
       "      <td>2</td>\n",
       "      <td>Chase Fielddouble-dagger</td>\n",
       "      <td>48686</td>\n",
       "      <td>Phoenix, Arizona</td>\n",
       "      <td>Artificial turf</td>\n",
       "      <td>Arizona Diamondbacks</td>\n",
       "      <td>1998</td>\n",
       "      <td>407 feet (124 m)</td>\n",
       "      <td>Retro-modern</td>\n",
       "      <td>Retractable</td>\n",
       "    </tr>\n",
       "    <tr>\n",
       "      <td>3</td>\n",
       "      <td>Citi Field</td>\n",
       "      <td>41922</td>\n",
       "      <td>Queens, New York</td>\n",
       "      <td>Grass</td>\n",
       "      <td>New York Mets</td>\n",
       "      <td>2009</td>\n",
       "      <td>408 feet (124 m)</td>\n",
       "      <td>Retro-classic</td>\n",
       "      <td>Open</td>\n",
       "    </tr>\n",
       "    <tr>\n",
       "      <td>4</td>\n",
       "      <td>Citizens Bank Park</td>\n",
       "      <td>42792</td>\n",
       "      <td>Philadelphia, Pennsylvania</td>\n",
       "      <td>Grass</td>\n",
       "      <td>Philadelphia Phillies</td>\n",
       "      <td>2004</td>\n",
       "      <td>401 feet (122 m)</td>\n",
       "      <td>Retro-classic</td>\n",
       "      <td>Open</td>\n",
       "    </tr>\n",
       "  </tbody>\n",
       "</table>\n",
       "</div>"
      ],
      "text/plain": [
       "                       Name  Capacity                    Location  \\\n",
       "0             Angel Stadium     45517         Anaheim, California   \n",
       "1             Busch Stadium     45494         St. Louis, Missouri   \n",
       "2  Chase Fielddouble-dagger     48686            Phoenix, Arizona   \n",
       "3                Citi Field     41922            Queens, New York   \n",
       "4        Citizens Bank Park     42792  Philadelphia, Pennsylvania   \n",
       "\n",
       "           Surface          Team_LongName  Opened Distance to center field  \\\n",
       "0            Grass     Los Angeles Angels    1966         396 feet (121 m)   \n",
       "1            Grass    St. Louis Cardinals    2006         400 feet (122 m)   \n",
       "2  Artificial turf   Arizona Diamondbacks    1998         407 feet (124 m)   \n",
       "3            Grass          New York Mets    2009         408 feet (124 m)   \n",
       "4            Grass  Philadelphia Phillies    2004         401 feet (122 m)   \n",
       "\n",
       "            Type    Roof type  \n",
       "0         Modern         Open  \n",
       "1  Retro-classic         Open  \n",
       "2   Retro-modern  Retractable  \n",
       "3  Retro-classic         Open  \n",
       "4  Retro-classic         Open  "
      ]
     },
     "execution_count": 2,
     "metadata": {},
     "output_type": "execute_result"
    }
   ],
   "source": [
    "# read in csv needed (MLB Stadium Capicity per Team) to push to database \n",
    "capacity_file = \"Final_Files/MLB_Capacity.csv\"\n",
    "capacity_df = pd.read_csv(capacity_file, encoding=\"ISO-8859-1\")\n",
    "capacity_df.head()\n"
   ]
  },
  {
   "cell_type": "code",
   "execution_count": 3,
   "metadata": {},
   "outputs": [],
   "source": [
    "# Establish connection with database\n",
    "rds_connection_string = \"postgres:smitty77@localhost:5432/mlb_db\"\n",
    "engine = create_engine(f'postgresql://{rds_connection_string}')"
   ]
  },
  {
   "cell_type": "code",
   "execution_count": 4,
   "metadata": {},
   "outputs": [
    {
     "data": {
      "text/plain": [
       "['winslosses', 'attendance', 'revenue', 'payroll', 'salary', 'looktable']"
      ]
     },
     "execution_count": 4,
     "metadata": {},
     "output_type": "execute_result"
    }
   ],
   "source": [
    "# see what tables exist in database\n",
    "engine.table_names()"
   ]
  },
  {
   "cell_type": "code",
   "execution_count": 4,
   "metadata": {},
   "outputs": [
    {
     "data": {
      "text/html": [
       "<div>\n",
       "<style scoped>\n",
       "    .dataframe tbody tr th:only-of-type {\n",
       "        vertical-align: middle;\n",
       "    }\n",
       "\n",
       "    .dataframe tbody tr th {\n",
       "        vertical-align: top;\n",
       "    }\n",
       "\n",
       "    .dataframe thead th {\n",
       "        text-align: right;\n",
       "    }\n",
       "</style>\n",
       "<table border=\"1\" class=\"dataframe\">\n",
       "  <thead>\n",
       "    <tr style=\"text-align: right;\">\n",
       "      <th></th>\n",
       "      <th>team_key</th>\n",
       "      <th>team_longname</th>\n",
       "      <th>team_cityname</th>\n",
       "      <th>team_abrv</th>\n",
       "      <th>team_shortname</th>\n",
       "    </tr>\n",
       "  </thead>\n",
       "  <tbody>\n",
       "    <tr>\n",
       "      <td>0</td>\n",
       "      <td>1</td>\n",
       "      <td>Los Angeles Dodgers</td>\n",
       "      <td>Los Angeles</td>\n",
       "      <td>LA Dodgers</td>\n",
       "      <td>Dodgers</td>\n",
       "    </tr>\n",
       "    <tr>\n",
       "      <td>1</td>\n",
       "      <td>2</td>\n",
       "      <td>St. Louis Cardinals</td>\n",
       "      <td>St. Louis</td>\n",
       "      <td>St. Louis</td>\n",
       "      <td>Cardinals</td>\n",
       "    </tr>\n",
       "    <tr>\n",
       "      <td>2</td>\n",
       "      <td>3</td>\n",
       "      <td>New York Yankees</td>\n",
       "      <td>New York</td>\n",
       "      <td>NY Yankees</td>\n",
       "      <td>Yankees</td>\n",
       "    </tr>\n",
       "    <tr>\n",
       "      <td>3</td>\n",
       "      <td>4</td>\n",
       "      <td>Chicago Cubs</td>\n",
       "      <td>Chicago</td>\n",
       "      <td>Chicago Cubs</td>\n",
       "      <td>Cubs</td>\n",
       "    </tr>\n",
       "    <tr>\n",
       "      <td>4</td>\n",
       "      <td>5</td>\n",
       "      <td>Los Angeles Angels</td>\n",
       "      <td>Los Angeles</td>\n",
       "      <td>LA Angels</td>\n",
       "      <td>Angels</td>\n",
       "    </tr>\n",
       "  </tbody>\n",
       "</table>\n",
       "</div>"
      ],
      "text/plain": [
       "   team_key        team_longname team_cityname     team_abrv team_shortname\n",
       "0         1  Los Angeles Dodgers   Los Angeles    LA Dodgers        Dodgers\n",
       "1         2  St. Louis Cardinals     St. Louis     St. Louis      Cardinals\n",
       "2         3     New York Yankees      New York    NY Yankees        Yankees\n",
       "3         4         Chicago Cubs       Chicago  Chicago Cubs           Cubs\n",
       "4         5   Los Angeles Angels   Los Angeles     LA Angels         Angels"
      ]
     },
     "execution_count": 4,
     "metadata": {},
     "output_type": "execute_result"
    }
   ],
   "source": [
    "# pull in the look table to get keys \n",
    "look = pd.read_sql_query('Select * From looktable', con=engine)\n",
    "look_df = pd.DataFrame(look)\n",
    "look_df.head()"
   ]
  },
  {
   "cell_type": "code",
   "execution_count": 5,
   "metadata": {},
   "outputs": [
    {
     "data": {
      "text/html": [
       "<div>\n",
       "<style scoped>\n",
       "    .dataframe tbody tr th:only-of-type {\n",
       "        vertical-align: middle;\n",
       "    }\n",
       "\n",
       "    .dataframe tbody tr th {\n",
       "        vertical-align: top;\n",
       "    }\n",
       "\n",
       "    .dataframe thead th {\n",
       "        text-align: right;\n",
       "    }\n",
       "</style>\n",
       "<table border=\"1\" class=\"dataframe\">\n",
       "  <thead>\n",
       "    <tr style=\"text-align: right;\">\n",
       "      <th></th>\n",
       "      <th>Team_LongName</th>\n",
       "      <th>Name</th>\n",
       "      <th>Capacity</th>\n",
       "    </tr>\n",
       "  </thead>\n",
       "  <tbody>\n",
       "    <tr>\n",
       "      <td>0</td>\n",
       "      <td>Los Angeles Angels</td>\n",
       "      <td>Angel Stadium</td>\n",
       "      <td>45517</td>\n",
       "    </tr>\n",
       "    <tr>\n",
       "      <td>1</td>\n",
       "      <td>St. Louis Cardinals</td>\n",
       "      <td>Busch Stadium</td>\n",
       "      <td>45494</td>\n",
       "    </tr>\n",
       "    <tr>\n",
       "      <td>2</td>\n",
       "      <td>Arizona Diamondbacks</td>\n",
       "      <td>Chase Fielddouble-dagger</td>\n",
       "      <td>48686</td>\n",
       "    </tr>\n",
       "    <tr>\n",
       "      <td>3</td>\n",
       "      <td>New York Mets</td>\n",
       "      <td>Citi Field</td>\n",
       "      <td>41922</td>\n",
       "    </tr>\n",
       "    <tr>\n",
       "      <td>4</td>\n",
       "      <td>Philadelphia Phillies</td>\n",
       "      <td>Citizens Bank Park</td>\n",
       "      <td>42792</td>\n",
       "    </tr>\n",
       "  </tbody>\n",
       "</table>\n",
       "</div>"
      ],
      "text/plain": [
       "           Team_LongName                      Name  Capacity\n",
       "0     Los Angeles Angels             Angel Stadium     45517\n",
       "1    St. Louis Cardinals             Busch Stadium     45494\n",
       "2   Arizona Diamondbacks  Chase Fielddouble-dagger     48686\n",
       "3          New York Mets                Citi Field     41922\n",
       "4  Philadelphia Phillies        Citizens Bank Park     42792"
      ]
     },
     "execution_count": 5,
     "metadata": {},
     "output_type": "execute_result"
    }
   ],
   "source": [
    "# Create a filtered dataframe from specific columns\n",
    "capacity_cols = [\"Team_LongName\", \"Name\", \"Capacity\"]\n",
    "capacity_transformed = capacity_df[capacity_cols].copy()\n",
    "capacity_transformed.head()"
   ]
  },
  {
   "cell_type": "code",
   "execution_count": 6,
   "metadata": {},
   "outputs": [
    {
     "data": {
      "text/html": [
       "<div>\n",
       "<style scoped>\n",
       "    .dataframe tbody tr th:only-of-type {\n",
       "        vertical-align: middle;\n",
       "    }\n",
       "\n",
       "    .dataframe tbody tr th {\n",
       "        vertical-align: top;\n",
       "    }\n",
       "\n",
       "    .dataframe thead th {\n",
       "        text-align: right;\n",
       "    }\n",
       "</style>\n",
       "<table border=\"1\" class=\"dataframe\">\n",
       "  <thead>\n",
       "    <tr style=\"text-align: right;\">\n",
       "      <th></th>\n",
       "      <th>team_longname</th>\n",
       "      <th>stadium_name</th>\n",
       "      <th>stadium_capacity</th>\n",
       "    </tr>\n",
       "  </thead>\n",
       "  <tbody>\n",
       "    <tr>\n",
       "      <td>0</td>\n",
       "      <td>Los Angeles Angels</td>\n",
       "      <td>Angel Stadium</td>\n",
       "      <td>45517</td>\n",
       "    </tr>\n",
       "    <tr>\n",
       "      <td>1</td>\n",
       "      <td>St. Louis Cardinals</td>\n",
       "      <td>Busch Stadium</td>\n",
       "      <td>45494</td>\n",
       "    </tr>\n",
       "    <tr>\n",
       "      <td>2</td>\n",
       "      <td>Arizona Diamondbacks</td>\n",
       "      <td>Chase Fielddouble-dagger</td>\n",
       "      <td>48686</td>\n",
       "    </tr>\n",
       "    <tr>\n",
       "      <td>3</td>\n",
       "      <td>New York Mets</td>\n",
       "      <td>Citi Field</td>\n",
       "      <td>41922</td>\n",
       "    </tr>\n",
       "    <tr>\n",
       "      <td>4</td>\n",
       "      <td>Philadelphia Phillies</td>\n",
       "      <td>Citizens Bank Park</td>\n",
       "      <td>42792</td>\n",
       "    </tr>\n",
       "  </tbody>\n",
       "</table>\n",
       "</div>"
      ],
      "text/plain": [
       "           team_longname              stadium_name  stadium_capacity\n",
       "0     Los Angeles Angels             Angel Stadium             45517\n",
       "1    St. Louis Cardinals             Busch Stadium             45494\n",
       "2   Arizona Diamondbacks  Chase Fielddouble-dagger             48686\n",
       "3          New York Mets                Citi Field             41922\n",
       "4  Philadelphia Phillies        Citizens Bank Park             42792"
      ]
     },
     "execution_count": 6,
     "metadata": {},
     "output_type": "execute_result"
    }
   ],
   "source": [
    "# Rename the column headers\n",
    "capacity_transformed_df = capacity_transformed.rename(columns={\"Team_LongName\": \"team_longname\",\n",
    "                                                          \"Name\": \"stadium_name\",\n",
    "                                                          \"Capacity\": \"stadium_capacity\"})\n",
    "capacity_transformed_df.head()"
   ]
  },
  {
   "cell_type": "code",
   "execution_count": 7,
   "metadata": {},
   "outputs": [
    {
     "name": "stdout",
     "output_type": "stream",
     "text": [
      "<class 'pandas.core.frame.DataFrame'>\n",
      "RangeIndex: 30 entries, 0 to 29\n",
      "Data columns (total 3 columns):\n",
      "team_longname       30 non-null object\n",
      "stadium_name        30 non-null object\n",
      "stadium_capacity    30 non-null int64\n",
      "dtypes: int64(1), object(2)\n",
      "memory usage: 848.0+ bytes\n"
     ]
    }
   ],
   "source": [
    "capacity_transformed_df.info()\n"
   ]
  },
  {
   "cell_type": "code",
   "execution_count": 11,
   "metadata": {},
   "outputs": [
    {
     "data": {
      "text/html": [
       "<div>\n",
       "<style scoped>\n",
       "    .dataframe tbody tr th:only-of-type {\n",
       "        vertical-align: middle;\n",
       "    }\n",
       "\n",
       "    .dataframe tbody tr th {\n",
       "        vertical-align: top;\n",
       "    }\n",
       "\n",
       "    .dataframe thead th {\n",
       "        text-align: right;\n",
       "    }\n",
       "</style>\n",
       "<table border=\"1\" class=\"dataframe\">\n",
       "  <thead>\n",
       "    <tr style=\"text-align: right;\">\n",
       "      <th></th>\n",
       "      <th>team_longname</th>\n",
       "      <th>stadium_name</th>\n",
       "      <th>stadium_capacity</th>\n",
       "      <th>team_cityname</th>\n",
       "      <th>team_abrv</th>\n",
       "      <th>team_shortname</th>\n",
       "    </tr>\n",
       "    <tr>\n",
       "      <th>team_key</th>\n",
       "      <th></th>\n",
       "      <th></th>\n",
       "      <th></th>\n",
       "      <th></th>\n",
       "      <th></th>\n",
       "      <th></th>\n",
       "    </tr>\n",
       "  </thead>\n",
       "  <tbody>\n",
       "    <tr>\n",
       "      <td>5</td>\n",
       "      <td>Los Angeles Angels</td>\n",
       "      <td>Angel Stadium</td>\n",
       "      <td>45517</td>\n",
       "      <td>Los Angeles</td>\n",
       "      <td>LA Angels</td>\n",
       "      <td>Angels</td>\n",
       "    </tr>\n",
       "    <tr>\n",
       "      <td>2</td>\n",
       "      <td>St. Louis Cardinals</td>\n",
       "      <td>Busch Stadium</td>\n",
       "      <td>45494</td>\n",
       "      <td>St. Louis</td>\n",
       "      <td>St. Louis</td>\n",
       "      <td>Cardinals</td>\n",
       "    </tr>\n",
       "    <tr>\n",
       "      <td>17</td>\n",
       "      <td>Arizona Diamondbacks</td>\n",
       "      <td>Chase Fielddouble-dagger</td>\n",
       "      <td>48686</td>\n",
       "      <td>Arizona</td>\n",
       "      <td>Arizona</td>\n",
       "      <td>Diamondbacks</td>\n",
       "    </tr>\n",
       "    <tr>\n",
       "      <td>13</td>\n",
       "      <td>New York Mets</td>\n",
       "      <td>Citi Field</td>\n",
       "      <td>41922</td>\n",
       "      <td>New York</td>\n",
       "      <td>NY Mets</td>\n",
       "      <td>Mets</td>\n",
       "    </tr>\n",
       "    <tr>\n",
       "      <td>10</td>\n",
       "      <td>Philadelphia Phillies</td>\n",
       "      <td>Citizens Bank Park</td>\n",
       "      <td>42792</td>\n",
       "      <td>Philadelphia</td>\n",
       "      <td>Philadelphia</td>\n",
       "      <td>Phillies</td>\n",
       "    </tr>\n",
       "  </tbody>\n",
       "</table>\n",
       "</div>"
      ],
      "text/plain": [
       "                  team_longname              stadium_name  stadium_capacity  \\\n",
       "team_key                                                                      \n",
       "5            Los Angeles Angels             Angel Stadium             45517   \n",
       "2           St. Louis Cardinals             Busch Stadium             45494   \n",
       "17         Arizona Diamondbacks  Chase Fielddouble-dagger             48686   \n",
       "13                New York Mets                Citi Field             41922   \n",
       "10        Philadelphia Phillies        Citizens Bank Park             42792   \n",
       "\n",
       "         team_cityname     team_abrv team_shortname  \n",
       "team_key                                             \n",
       "5          Los Angeles     LA Angels         Angels  \n",
       "2            St. Louis     St. Louis      Cardinals  \n",
       "17             Arizona       Arizona   Diamondbacks  \n",
       "13            New York       NY Mets           Mets  \n",
       "10        Philadelphia  Philadelphia       Phillies  "
      ]
     },
     "execution_count": 11,
     "metadata": {},
     "output_type": "execute_result"
    }
   ],
   "source": [
    "# merge the capacity df with the look df\n",
    "merged_capacity = pd.merge(capacity_transformed_df, look_df, on=\"team_longname\").set_index(\"team_key\")\n",
    "merged_capacity.head()"
   ]
  },
  {
   "cell_type": "code",
   "execution_count": 12,
   "metadata": {},
   "outputs": [],
   "source": [
    "# push the new table to the database\n",
    "merged_capacity.to_sql(name='capacity', con=engine, if_exists='append', index=True)"
   ]
  },
  {
   "cell_type": "code",
   "execution_count": 13,
   "metadata": {},
   "outputs": [
    {
     "name": "stdout",
     "output_type": "stream",
     "text": [
      "<class 'pandas.core.frame.DataFrame'>\n",
      "Int64Index: 30 entries, 5 to 3\n",
      "Data columns (total 6 columns):\n",
      "team_longname       30 non-null object\n",
      "stadium_name        30 non-null object\n",
      "stadium_capacity    30 non-null int64\n",
      "team_cityname       30 non-null object\n",
      "team_abrv           30 non-null object\n",
      "team_shortname      30 non-null object\n",
      "dtypes: int64(1), object(5)\n",
      "memory usage: 1.6+ KB\n"
     ]
    }
   ],
   "source": [
    "# check out the datatypes in the new table \n",
    "merged_capacity.info()"
   ]
  },
  {
   "cell_type": "code",
   "execution_count": 16,
   "metadata": {},
   "outputs": [
    {
     "data": {
      "text/plain": [
       "['winslosses',\n",
       " 'attendance',\n",
       " 'revenue',\n",
       " 'payroll',\n",
       " 'salary',\n",
       " 'capacity',\n",
       " 'looktable']"
      ]
     },
     "execution_count": 16,
     "metadata": {},
     "output_type": "execute_result"
    }
   ],
   "source": [
    "# double check that it made it -- it did!! \n",
    "engine.table_names()"
   ]
  },
  {
   "cell_type": "markdown",
   "metadata": {},
   "source": [
    "### Add Average Ticket Price table to database 'mlb_db'"
   ]
  },
  {
   "cell_type": "code",
   "execution_count": 18,
   "metadata": {
    "scrolled": true
   },
   "outputs": [
    {
     "data": {
      "text/html": [
       "<div>\n",
       "<style scoped>\n",
       "    .dataframe tbody tr th:only-of-type {\n",
       "        vertical-align: middle;\n",
       "    }\n",
       "\n",
       "    .dataframe tbody tr th {\n",
       "        vertical-align: top;\n",
       "    }\n",
       "\n",
       "    .dataframe thead th {\n",
       "        text-align: right;\n",
       "    }\n",
       "</style>\n",
       "<table border=\"1\" class=\"dataframe\">\n",
       "  <thead>\n",
       "    <tr style=\"text-align: right;\">\n",
       "      <th></th>\n",
       "      <th>Team_LongName</th>\n",
       "      <th>Avg_Ticket_Price</th>\n",
       "      <th>Team_Key</th>\n",
       "    </tr>\n",
       "  </thead>\n",
       "  <tbody>\n",
       "    <tr>\n",
       "      <td>0</td>\n",
       "      <td>Arizona Diamondbacks</td>\n",
       "      <td>59</td>\n",
       "      <td>17</td>\n",
       "    </tr>\n",
       "    <tr>\n",
       "      <td>1</td>\n",
       "      <td>Atlanta Braves</td>\n",
       "      <td>56</td>\n",
       "      <td>12</td>\n",
       "    </tr>\n",
       "    <tr>\n",
       "      <td>2</td>\n",
       "      <td>Baltimore Orioles</td>\n",
       "      <td>56</td>\n",
       "      <td>28</td>\n",
       "    </tr>\n",
       "    <tr>\n",
       "      <td>3</td>\n",
       "      <td>Boston Red Sox</td>\n",
       "      <td>94</td>\n",
       "      <td>7</td>\n",
       "    </tr>\n",
       "    <tr>\n",
       "      <td>4</td>\n",
       "      <td>Chicago Cubs</td>\n",
       "      <td>128</td>\n",
       "      <td>4</td>\n",
       "    </tr>\n",
       "  </tbody>\n",
       "</table>\n",
       "</div>"
      ],
      "text/plain": [
       "          Team_LongName  Avg_Ticket_Price  Team_Key\n",
       "0  Arizona Diamondbacks                59        17\n",
       "1        Atlanta Braves                56        12\n",
       "2     Baltimore Orioles                56        28\n",
       "3        Boston Red Sox                94         7\n",
       "4          Chicago Cubs               128         4"
      ]
     },
     "execution_count": 18,
     "metadata": {},
     "output_type": "execute_result"
    }
   ],
   "source": [
    "# read in csv needed (Average Ticket Price per Team) to push to database \n",
    "avg_ticket_price_file = \"Final_Files/MLB_Avg_Ticket_Price.csv\"\n",
    "avg_ticket_price_df = pd.read_csv(avg_ticket_price_file, encoding=\"ISO-8859-1\")\n",
    "avg_ticket_price_df.head()"
   ]
  },
  {
   "cell_type": "code",
   "execution_count": 19,
   "metadata": {},
   "outputs": [
    {
     "data": {
      "text/plain": [
       "['winslosses',\n",
       " 'attendance',\n",
       " 'revenue',\n",
       " 'payroll',\n",
       " 'salary',\n",
       " 'capacity',\n",
       " 'looktable']"
      ]
     },
     "execution_count": 19,
     "metadata": {},
     "output_type": "execute_result"
    }
   ],
   "source": [
    "# see what tables exist in database\n",
    "engine.table_names()"
   ]
  },
  {
   "cell_type": "code",
   "execution_count": 20,
   "metadata": {},
   "outputs": [
    {
     "data": {
      "text/html": [
       "<div>\n",
       "<style scoped>\n",
       "    .dataframe tbody tr th:only-of-type {\n",
       "        vertical-align: middle;\n",
       "    }\n",
       "\n",
       "    .dataframe tbody tr th {\n",
       "        vertical-align: top;\n",
       "    }\n",
       "\n",
       "    .dataframe thead th {\n",
       "        text-align: right;\n",
       "    }\n",
       "</style>\n",
       "<table border=\"1\" class=\"dataframe\">\n",
       "  <thead>\n",
       "    <tr style=\"text-align: right;\">\n",
       "      <th></th>\n",
       "      <th>team_key</th>\n",
       "      <th>team_longname</th>\n",
       "      <th>team_cityname</th>\n",
       "      <th>team_abrv</th>\n",
       "      <th>team_shortname</th>\n",
       "    </tr>\n",
       "  </thead>\n",
       "  <tbody>\n",
       "    <tr>\n",
       "      <td>0</td>\n",
       "      <td>1</td>\n",
       "      <td>Los Angeles Dodgers</td>\n",
       "      <td>Los Angeles</td>\n",
       "      <td>LA Dodgers</td>\n",
       "      <td>Dodgers</td>\n",
       "    </tr>\n",
       "    <tr>\n",
       "      <td>1</td>\n",
       "      <td>2</td>\n",
       "      <td>St. Louis Cardinals</td>\n",
       "      <td>St. Louis</td>\n",
       "      <td>St. Louis</td>\n",
       "      <td>Cardinals</td>\n",
       "    </tr>\n",
       "    <tr>\n",
       "      <td>2</td>\n",
       "      <td>3</td>\n",
       "      <td>New York Yankees</td>\n",
       "      <td>New York</td>\n",
       "      <td>NY Yankees</td>\n",
       "      <td>Yankees</td>\n",
       "    </tr>\n",
       "    <tr>\n",
       "      <td>3</td>\n",
       "      <td>4</td>\n",
       "      <td>Chicago Cubs</td>\n",
       "      <td>Chicago</td>\n",
       "      <td>Chicago Cubs</td>\n",
       "      <td>Cubs</td>\n",
       "    </tr>\n",
       "    <tr>\n",
       "      <td>4</td>\n",
       "      <td>5</td>\n",
       "      <td>Los Angeles Angels</td>\n",
       "      <td>Los Angeles</td>\n",
       "      <td>LA Angels</td>\n",
       "      <td>Angels</td>\n",
       "    </tr>\n",
       "  </tbody>\n",
       "</table>\n",
       "</div>"
      ],
      "text/plain": [
       "   team_key        team_longname team_cityname     team_abrv team_shortname\n",
       "0         1  Los Angeles Dodgers   Los Angeles    LA Dodgers        Dodgers\n",
       "1         2  St. Louis Cardinals     St. Louis     St. Louis      Cardinals\n",
       "2         3     New York Yankees      New York    NY Yankees        Yankees\n",
       "3         4         Chicago Cubs       Chicago  Chicago Cubs           Cubs\n",
       "4         5   Los Angeles Angels   Los Angeles     LA Angels         Angels"
      ]
     },
     "execution_count": 20,
     "metadata": {},
     "output_type": "execute_result"
    }
   ],
   "source": [
    "# pull in the look table to get keys \n",
    "look = pd.read_sql_query('Select * From looktable', con=engine)\n",
    "look_df = pd.DataFrame(look)\n",
    "look_df.head()"
   ]
  },
  {
   "cell_type": "code",
   "execution_count": 21,
   "metadata": {},
   "outputs": [
    {
     "data": {
      "text/html": [
       "<div>\n",
       "<style scoped>\n",
       "    .dataframe tbody tr th:only-of-type {\n",
       "        vertical-align: middle;\n",
       "    }\n",
       "\n",
       "    .dataframe tbody tr th {\n",
       "        vertical-align: top;\n",
       "    }\n",
       "\n",
       "    .dataframe thead th {\n",
       "        text-align: right;\n",
       "    }\n",
       "</style>\n",
       "<table border=\"1\" class=\"dataframe\">\n",
       "  <thead>\n",
       "    <tr style=\"text-align: right;\">\n",
       "      <th></th>\n",
       "      <th>Team_LongName</th>\n",
       "      <th>Avg_Ticket_Price</th>\n",
       "    </tr>\n",
       "  </thead>\n",
       "  <tbody>\n",
       "    <tr>\n",
       "      <td>0</td>\n",
       "      <td>Arizona Diamondbacks</td>\n",
       "      <td>59</td>\n",
       "    </tr>\n",
       "    <tr>\n",
       "      <td>1</td>\n",
       "      <td>Atlanta Braves</td>\n",
       "      <td>56</td>\n",
       "    </tr>\n",
       "    <tr>\n",
       "      <td>2</td>\n",
       "      <td>Baltimore Orioles</td>\n",
       "      <td>56</td>\n",
       "    </tr>\n",
       "    <tr>\n",
       "      <td>3</td>\n",
       "      <td>Boston Red Sox</td>\n",
       "      <td>94</td>\n",
       "    </tr>\n",
       "    <tr>\n",
       "      <td>4</td>\n",
       "      <td>Chicago Cubs</td>\n",
       "      <td>128</td>\n",
       "    </tr>\n",
       "  </tbody>\n",
       "</table>\n",
       "</div>"
      ],
      "text/plain": [
       "          Team_LongName  Avg_Ticket_Price\n",
       "0  Arizona Diamondbacks                59\n",
       "1        Atlanta Braves                56\n",
       "2     Baltimore Orioles                56\n",
       "3        Boston Red Sox                94\n",
       "4          Chicago Cubs               128"
      ]
     },
     "execution_count": 21,
     "metadata": {},
     "output_type": "execute_result"
    }
   ],
   "source": [
    "# Create a filtered dataframe from specific columns\n",
    "avg_ticket_price_cols = [\"Team_LongName\", \"Avg_Ticket_Price\"]\n",
    "avg_ticket_price_transformed= avg_ticket_price_df[avg_ticket_price_cols].copy()\n",
    "avg_ticket_price_transformed.head()"
   ]
  },
  {
   "cell_type": "code",
   "execution_count": 22,
   "metadata": {},
   "outputs": [
    {
     "data": {
      "text/html": [
       "<div>\n",
       "<style scoped>\n",
       "    .dataframe tbody tr th:only-of-type {\n",
       "        vertical-align: middle;\n",
       "    }\n",
       "\n",
       "    .dataframe tbody tr th {\n",
       "        vertical-align: top;\n",
       "    }\n",
       "\n",
       "    .dataframe thead th {\n",
       "        text-align: right;\n",
       "    }\n",
       "</style>\n",
       "<table border=\"1\" class=\"dataframe\">\n",
       "  <thead>\n",
       "    <tr style=\"text-align: right;\">\n",
       "      <th></th>\n",
       "      <th>team_longname</th>\n",
       "      <th>avg_ticket_price</th>\n",
       "    </tr>\n",
       "  </thead>\n",
       "  <tbody>\n",
       "    <tr>\n",
       "      <td>0</td>\n",
       "      <td>Arizona Diamondbacks</td>\n",
       "      <td>59</td>\n",
       "    </tr>\n",
       "    <tr>\n",
       "      <td>1</td>\n",
       "      <td>Atlanta Braves</td>\n",
       "      <td>56</td>\n",
       "    </tr>\n",
       "    <tr>\n",
       "      <td>2</td>\n",
       "      <td>Baltimore Orioles</td>\n",
       "      <td>56</td>\n",
       "    </tr>\n",
       "    <tr>\n",
       "      <td>3</td>\n",
       "      <td>Boston Red Sox</td>\n",
       "      <td>94</td>\n",
       "    </tr>\n",
       "    <tr>\n",
       "      <td>4</td>\n",
       "      <td>Chicago Cubs</td>\n",
       "      <td>128</td>\n",
       "    </tr>\n",
       "  </tbody>\n",
       "</table>\n",
       "</div>"
      ],
      "text/plain": [
       "          team_longname  avg_ticket_price\n",
       "0  Arizona Diamondbacks                59\n",
       "1        Atlanta Braves                56\n",
       "2     Baltimore Orioles                56\n",
       "3        Boston Red Sox                94\n",
       "4          Chicago Cubs               128"
      ]
     },
     "execution_count": 22,
     "metadata": {},
     "output_type": "execute_result"
    }
   ],
   "source": [
    "# Rename the column headers DELETE\n",
    "avg_ticket_price_transformed = avg_ticket_price_transformed.rename(columns={\"Team_LongName\": \"team_longname\",\n",
    "                                                          \"Avg_Ticket_Price\": \"avg_ticket_price\"})\n",
    "avg_ticket_price_transformed.head()"
   ]
  },
  {
   "cell_type": "code",
   "execution_count": 23,
   "metadata": {},
   "outputs": [
    {
     "data": {
      "text/html": [
       "<div>\n",
       "<style scoped>\n",
       "    .dataframe tbody tr th:only-of-type {\n",
       "        vertical-align: middle;\n",
       "    }\n",
       "\n",
       "    .dataframe tbody tr th {\n",
       "        vertical-align: top;\n",
       "    }\n",
       "\n",
       "    .dataframe thead th {\n",
       "        text-align: right;\n",
       "    }\n",
       "</style>\n",
       "<table border=\"1\" class=\"dataframe\">\n",
       "  <thead>\n",
       "    <tr style=\"text-align: right;\">\n",
       "      <th></th>\n",
       "      <th>team_longname</th>\n",
       "      <th>avg_ticket_price</th>\n",
       "      <th>team_cityname</th>\n",
       "      <th>team_abrv</th>\n",
       "      <th>team_shortname</th>\n",
       "    </tr>\n",
       "    <tr>\n",
       "      <th>team_key</th>\n",
       "      <th></th>\n",
       "      <th></th>\n",
       "      <th></th>\n",
       "      <th></th>\n",
       "      <th></th>\n",
       "    </tr>\n",
       "  </thead>\n",
       "  <tbody>\n",
       "    <tr>\n",
       "      <td>17</td>\n",
       "      <td>Arizona Diamondbacks</td>\n",
       "      <td>59</td>\n",
       "      <td>Arizona</td>\n",
       "      <td>Arizona</td>\n",
       "      <td>Diamondbacks</td>\n",
       "    </tr>\n",
       "    <tr>\n",
       "      <td>12</td>\n",
       "      <td>Atlanta Braves</td>\n",
       "      <td>56</td>\n",
       "      <td>Atlanta</td>\n",
       "      <td>Atlanta</td>\n",
       "      <td>Braves</td>\n",
       "    </tr>\n",
       "    <tr>\n",
       "      <td>28</td>\n",
       "      <td>Baltimore Orioles</td>\n",
       "      <td>56</td>\n",
       "      <td>Baltimore</td>\n",
       "      <td>Baltimore</td>\n",
       "      <td>Orioles</td>\n",
       "    </tr>\n",
       "    <tr>\n",
       "      <td>7</td>\n",
       "      <td>Boston Red Sox</td>\n",
       "      <td>94</td>\n",
       "      <td>Boston</td>\n",
       "      <td>Boston</td>\n",
       "      <td>Red Sox</td>\n",
       "    </tr>\n",
       "    <tr>\n",
       "      <td>4</td>\n",
       "      <td>Chicago Cubs</td>\n",
       "      <td>128</td>\n",
       "      <td>Chicago</td>\n",
       "      <td>Chicago Cubs</td>\n",
       "      <td>Cubs</td>\n",
       "    </tr>\n",
       "  </tbody>\n",
       "</table>\n",
       "</div>"
      ],
      "text/plain": [
       "                 team_longname  avg_ticket_price team_cityname     team_abrv  \\\n",
       "team_key                                                                       \n",
       "17        Arizona Diamondbacks                59       Arizona       Arizona   \n",
       "12              Atlanta Braves                56       Atlanta       Atlanta   \n",
       "28           Baltimore Orioles                56     Baltimore     Baltimore   \n",
       "7               Boston Red Sox                94        Boston        Boston   \n",
       "4                 Chicago Cubs               128       Chicago  Chicago Cubs   \n",
       "\n",
       "         team_shortname  \n",
       "team_key                 \n",
       "17         Diamondbacks  \n",
       "12               Braves  \n",
       "28              Orioles  \n",
       "7               Red Sox  \n",
       "4                  Cubs  "
      ]
     },
     "execution_count": 23,
     "metadata": {},
     "output_type": "execute_result"
    }
   ],
   "source": [
    "# merge the capacity df with the look df\n",
    "merged_avg_ticket_price = pd.merge(avg_ticket_price_transformed, look_df, on=\"team_longname\").set_index(\"team_key\")\n",
    "merged_avg_ticket_price.head()"
   ]
  },
  {
   "cell_type": "code",
   "execution_count": 24,
   "metadata": {},
   "outputs": [
    {
     "name": "stdout",
     "output_type": "stream",
     "text": [
      "<class 'pandas.core.frame.DataFrame'>\n",
      "Int64Index: 30 entries, 17 to 16\n",
      "Data columns (total 5 columns):\n",
      "team_longname       30 non-null object\n",
      "avg_ticket_price    30 non-null int64\n",
      "team_cityname       30 non-null object\n",
      "team_abrv           30 non-null object\n",
      "team_shortname      30 non-null object\n",
      "dtypes: int64(1), object(4)\n",
      "memory usage: 1.4+ KB\n"
     ]
    }
   ],
   "source": [
    "# check out the datatypes in the new table \n",
    "merged_avg_ticket_price.info()"
   ]
  },
  {
   "cell_type": "code",
   "execution_count": 25,
   "metadata": {},
   "outputs": [],
   "source": [
    "# push the new table to the database\n",
    "merged_avg_ticket_price.to_sql(name='avgticketprice', con=engine, if_exists='append', index=True)"
   ]
  },
  {
   "cell_type": "code",
   "execution_count": 26,
   "metadata": {},
   "outputs": [
    {
     "data": {
      "text/plain": [
       "['winslosses',\n",
       " 'attendance',\n",
       " 'revenue',\n",
       " 'payroll',\n",
       " 'salary',\n",
       " 'capacity',\n",
       " 'avgticketprice',\n",
       " 'looktable']"
      ]
     },
     "execution_count": 26,
     "metadata": {},
     "output_type": "execute_result"
    }
   ],
   "source": [
    "# double check that it made it -- it did!! \n",
    "engine.table_names()"
   ]
  },
  {
   "cell_type": "code",
   "execution_count": null,
   "metadata": {},
   "outputs": [],
   "source": []
  }
 ],
 "metadata": {
  "kernelspec": {
   "display_name": "Python 3",
   "language": "python",
   "name": "python3"
  },
  "language_info": {
   "codemirror_mode": {
    "name": "ipython",
    "version": 3
   },
   "file_extension": ".py",
   "mimetype": "text/x-python",
   "name": "python",
   "nbconvert_exporter": "python",
   "pygments_lexer": "ipython3",
   "version": "3.6.9"
  }
 },
 "nbformat": 4,
 "nbformat_minor": 2
}
