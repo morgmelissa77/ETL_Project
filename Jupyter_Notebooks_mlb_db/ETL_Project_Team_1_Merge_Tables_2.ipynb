{
 "cells": [
  {
   "cell_type": "markdown",
   "metadata": {},
   "source": [
    "### ETL_Project_Team_1\n",
    "* Team Revenue & Ticket Price Table - Clean & Merge Data"
   ]
  },
  {
   "cell_type": "code",
   "execution_count": 1,
   "metadata": {},
   "outputs": [],
   "source": [
    "# import dependencies\n",
    "import pandas as pd\n",
    "from sqlalchemy import create_engine"
   ]
  },
  {
   "cell_type": "code",
   "execution_count": 2,
   "metadata": {},
   "outputs": [],
   "source": [
    "# Create connection to database\n",
    "rds_connection_string = \"postgres:smitty77@localhost:5432/mlb_db\"\n",
    "engine = create_engine(f'postgresql://{rds_connection_string}')"
   ]
  },
  {
   "cell_type": "code",
   "execution_count": 3,
   "metadata": {},
   "outputs": [
    {
     "data": {
      "text/plain": [
       "['winslosses',\n",
       " 'attendance',\n",
       " 'revenue',\n",
       " 'payroll',\n",
       " 'salary',\n",
       " 'capacity',\n",
       " 'avgticketprice',\n",
       " 'capacityattendance',\n",
       " 'looktable']"
      ]
     },
     "execution_count": 3,
     "metadata": {},
     "output_type": "execute_result"
    }
   ],
   "source": [
    "# see what tables exist in database\n",
    "engine.table_names()"
   ]
  },
  {
   "cell_type": "code",
   "execution_count": 4,
   "metadata": {},
   "outputs": [
    {
     "data": {
      "text/html": [
       "<div>\n",
       "<style scoped>\n",
       "    .dataframe tbody tr th:only-of-type {\n",
       "        vertical-align: middle;\n",
       "    }\n",
       "\n",
       "    .dataframe tbody tr th {\n",
       "        vertical-align: top;\n",
       "    }\n",
       "\n",
       "    .dataframe thead th {\n",
       "        text-align: right;\n",
       "    }\n",
       "</style>\n",
       "<table border=\"1\" class=\"dataframe\">\n",
       "  <thead>\n",
       "    <tr style=\"text-align: right;\">\n",
       "      <th></th>\n",
       "      <th>team_longname</th>\n",
       "      <th>revenue</th>\n",
       "    </tr>\n",
       "    <tr>\n",
       "      <th>team_key</th>\n",
       "      <th></th>\n",
       "      <th></th>\n",
       "    </tr>\n",
       "  </thead>\n",
       "  <tbody>\n",
       "    <tr>\n",
       "      <td>17</td>\n",
       "      <td>Arizona Diamondbacks</td>\n",
       "      <td>275</td>\n",
       "    </tr>\n",
       "    <tr>\n",
       "      <td>12</td>\n",
       "      <td>Atlanta Braves</td>\n",
       "      <td>344</td>\n",
       "    </tr>\n",
       "    <tr>\n",
       "      <td>28</td>\n",
       "      <td>Baltimore Orioles</td>\n",
       "      <td>251</td>\n",
       "    </tr>\n",
       "    <tr>\n",
       "      <td>7</td>\n",
       "      <td>Boston Red Sox</td>\n",
       "      <td>516</td>\n",
       "    </tr>\n",
       "    <tr>\n",
       "      <td>4</td>\n",
       "      <td>Chicago Cubs</td>\n",
       "      <td>452</td>\n",
       "    </tr>\n",
       "  </tbody>\n",
       "</table>\n",
       "</div>"
      ],
      "text/plain": [
       "                 team_longname  revenue\n",
       "team_key                               \n",
       "17        Arizona Diamondbacks      275\n",
       "12              Atlanta Braves      344\n",
       "28           Baltimore Orioles      251\n",
       "7               Boston Red Sox      516\n",
       "4                 Chicago Cubs      452"
      ]
     },
     "execution_count": 4,
     "metadata": {},
     "output_type": "execute_result"
    }
   ],
   "source": [
    "# pull in the revenue table\n",
    "revenue = pd.read_sql_query('Select * From revenue', con=engine)\n",
    "revenue_df = pd.DataFrame(revenue).set_index(\"team_key\")\n",
    "revenue_df.head()"
   ]
  },
  {
   "cell_type": "code",
   "execution_count": 5,
   "metadata": {},
   "outputs": [
    {
     "data": {
      "text/html": [
       "<div>\n",
       "<style scoped>\n",
       "    .dataframe tbody tr th:only-of-type {\n",
       "        vertical-align: middle;\n",
       "    }\n",
       "\n",
       "    .dataframe tbody tr th {\n",
       "        vertical-align: top;\n",
       "    }\n",
       "\n",
       "    .dataframe thead th {\n",
       "        text-align: right;\n",
       "    }\n",
       "</style>\n",
       "<table border=\"1\" class=\"dataframe\">\n",
       "  <thead>\n",
       "    <tr style=\"text-align: right;\">\n",
       "      <th></th>\n",
       "      <th>team_longname</th>\n",
       "      <th>avg_ticket_price</th>\n",
       "      <th>team_cityname</th>\n",
       "      <th>team_abrv</th>\n",
       "      <th>team_shortname</th>\n",
       "    </tr>\n",
       "    <tr>\n",
       "      <th>team_key</th>\n",
       "      <th></th>\n",
       "      <th></th>\n",
       "      <th></th>\n",
       "      <th></th>\n",
       "      <th></th>\n",
       "    </tr>\n",
       "  </thead>\n",
       "  <tbody>\n",
       "    <tr>\n",
       "      <td>17</td>\n",
       "      <td>Arizona Diamondbacks</td>\n",
       "      <td>59</td>\n",
       "      <td>Arizona</td>\n",
       "      <td>Arizona</td>\n",
       "      <td>Diamondbacks</td>\n",
       "    </tr>\n",
       "    <tr>\n",
       "      <td>12</td>\n",
       "      <td>Atlanta Braves</td>\n",
       "      <td>56</td>\n",
       "      <td>Atlanta</td>\n",
       "      <td>Atlanta</td>\n",
       "      <td>Braves</td>\n",
       "    </tr>\n",
       "    <tr>\n",
       "      <td>28</td>\n",
       "      <td>Baltimore Orioles</td>\n",
       "      <td>56</td>\n",
       "      <td>Baltimore</td>\n",
       "      <td>Baltimore</td>\n",
       "      <td>Orioles</td>\n",
       "    </tr>\n",
       "    <tr>\n",
       "      <td>7</td>\n",
       "      <td>Boston Red Sox</td>\n",
       "      <td>94</td>\n",
       "      <td>Boston</td>\n",
       "      <td>Boston</td>\n",
       "      <td>Red Sox</td>\n",
       "    </tr>\n",
       "    <tr>\n",
       "      <td>4</td>\n",
       "      <td>Chicago Cubs</td>\n",
       "      <td>128</td>\n",
       "      <td>Chicago</td>\n",
       "      <td>Chicago Cubs</td>\n",
       "      <td>Cubs</td>\n",
       "    </tr>\n",
       "  </tbody>\n",
       "</table>\n",
       "</div>"
      ],
      "text/plain": [
       "                 team_longname  avg_ticket_price team_cityname     team_abrv  \\\n",
       "team_key                                                                       \n",
       "17        Arizona Diamondbacks                59       Arizona       Arizona   \n",
       "12              Atlanta Braves                56       Atlanta       Atlanta   \n",
       "28           Baltimore Orioles                56     Baltimore     Baltimore   \n",
       "7               Boston Red Sox                94        Boston        Boston   \n",
       "4                 Chicago Cubs               128       Chicago  Chicago Cubs   \n",
       "\n",
       "         team_shortname  \n",
       "team_key                 \n",
       "17         Diamondbacks  \n",
       "12               Braves  \n",
       "28              Orioles  \n",
       "7               Red Sox  \n",
       "4                  Cubs  "
      ]
     },
     "execution_count": 5,
     "metadata": {},
     "output_type": "execute_result"
    }
   ],
   "source": [
    "# pull in the average ticket price table\n",
    "avgticketprice = pd.read_sql_query('Select * From avgticketprice', con=engine)\n",
    "avgticketprice_df = pd.DataFrame(avgticketprice).set_index(\"team_key\")\n",
    "avgticketprice_df.head()"
   ]
  },
  {
   "cell_type": "code",
   "execution_count": 6,
   "metadata": {},
   "outputs": [
    {
     "data": {
      "text/html": [
       "<div>\n",
       "<style scoped>\n",
       "    .dataframe tbody tr th:only-of-type {\n",
       "        vertical-align: middle;\n",
       "    }\n",
       "\n",
       "    .dataframe tbody tr th {\n",
       "        vertical-align: top;\n",
       "    }\n",
       "\n",
       "    .dataframe thead th {\n",
       "        text-align: right;\n",
       "    }\n",
       "</style>\n",
       "<table border=\"1\" class=\"dataframe\">\n",
       "  <thead>\n",
       "    <tr style=\"text-align: right;\">\n",
       "      <th></th>\n",
       "      <th>team_longname_x</th>\n",
       "      <th>revenue</th>\n",
       "      <th>team_longname_y</th>\n",
       "      <th>avg_ticket_price</th>\n",
       "      <th>team_cityname</th>\n",
       "      <th>team_abrv</th>\n",
       "      <th>team_shortname</th>\n",
       "    </tr>\n",
       "    <tr>\n",
       "      <th>team_key</th>\n",
       "      <th></th>\n",
       "      <th></th>\n",
       "      <th></th>\n",
       "      <th></th>\n",
       "      <th></th>\n",
       "      <th></th>\n",
       "      <th></th>\n",
       "    </tr>\n",
       "  </thead>\n",
       "  <tbody>\n",
       "    <tr>\n",
       "      <td>17</td>\n",
       "      <td>Arizona Diamondbacks</td>\n",
       "      <td>275</td>\n",
       "      <td>Arizona Diamondbacks</td>\n",
       "      <td>59</td>\n",
       "      <td>Arizona</td>\n",
       "      <td>Arizona</td>\n",
       "      <td>Diamondbacks</td>\n",
       "    </tr>\n",
       "    <tr>\n",
       "      <td>12</td>\n",
       "      <td>Atlanta Braves</td>\n",
       "      <td>344</td>\n",
       "      <td>Atlanta Braves</td>\n",
       "      <td>56</td>\n",
       "      <td>Atlanta</td>\n",
       "      <td>Atlanta</td>\n",
       "      <td>Braves</td>\n",
       "    </tr>\n",
       "    <tr>\n",
       "      <td>28</td>\n",
       "      <td>Baltimore Orioles</td>\n",
       "      <td>251</td>\n",
       "      <td>Baltimore Orioles</td>\n",
       "      <td>56</td>\n",
       "      <td>Baltimore</td>\n",
       "      <td>Baltimore</td>\n",
       "      <td>Orioles</td>\n",
       "    </tr>\n",
       "    <tr>\n",
       "      <td>7</td>\n",
       "      <td>Boston Red Sox</td>\n",
       "      <td>516</td>\n",
       "      <td>Boston Red Sox</td>\n",
       "      <td>94</td>\n",
       "      <td>Boston</td>\n",
       "      <td>Boston</td>\n",
       "      <td>Red Sox</td>\n",
       "    </tr>\n",
       "    <tr>\n",
       "      <td>4</td>\n",
       "      <td>Chicago Cubs</td>\n",
       "      <td>452</td>\n",
       "      <td>Chicago Cubs</td>\n",
       "      <td>128</td>\n",
       "      <td>Chicago</td>\n",
       "      <td>Chicago Cubs</td>\n",
       "      <td>Cubs</td>\n",
       "    </tr>\n",
       "  </tbody>\n",
       "</table>\n",
       "</div>"
      ],
      "text/plain": [
       "               team_longname_x  revenue       team_longname_y  \\\n",
       "team_key                                                        \n",
       "17        Arizona Diamondbacks      275  Arizona Diamondbacks   \n",
       "12              Atlanta Braves      344        Atlanta Braves   \n",
       "28           Baltimore Orioles      251     Baltimore Orioles   \n",
       "7               Boston Red Sox      516        Boston Red Sox   \n",
       "4                 Chicago Cubs      452          Chicago Cubs   \n",
       "\n",
       "          avg_ticket_price team_cityname     team_abrv team_shortname  \n",
       "team_key                                                               \n",
       "17                      59       Arizona       Arizona   Diamondbacks  \n",
       "12                      56       Atlanta       Atlanta         Braves  \n",
       "28                      56     Baltimore     Baltimore        Orioles  \n",
       "7                       94        Boston        Boston        Red Sox  \n",
       "4                      128       Chicago  Chicago Cubs           Cubs  "
      ]
     },
     "execution_count": 6,
     "metadata": {},
     "output_type": "execute_result"
    }
   ],
   "source": [
    "# merge the revenue df with the average ticket price df\n",
    "merged_revenue_price = pd.merge(revenue_df, avgticketprice_df, on=\"team_key\")\n",
    "merged_revenue_price.head()"
   ]
  },
  {
   "cell_type": "code",
   "execution_count": 7,
   "metadata": {},
   "outputs": [
    {
     "data": {
      "text/html": [
       "<div>\n",
       "<style scoped>\n",
       "    .dataframe tbody tr th:only-of-type {\n",
       "        vertical-align: middle;\n",
       "    }\n",
       "\n",
       "    .dataframe tbody tr th {\n",
       "        vertical-align: top;\n",
       "    }\n",
       "\n",
       "    .dataframe thead th {\n",
       "        text-align: right;\n",
       "    }\n",
       "</style>\n",
       "<table border=\"1\" class=\"dataframe\">\n",
       "  <thead>\n",
       "    <tr style=\"text-align: right;\">\n",
       "      <th></th>\n",
       "      <th>team_cityname</th>\n",
       "      <th>team_shortname</th>\n",
       "      <th>team_longname_x</th>\n",
       "      <th>revenue</th>\n",
       "      <th>avg_ticket_price</th>\n",
       "    </tr>\n",
       "    <tr>\n",
       "      <th>team_key</th>\n",
       "      <th></th>\n",
       "      <th></th>\n",
       "      <th></th>\n",
       "      <th></th>\n",
       "      <th></th>\n",
       "    </tr>\n",
       "  </thead>\n",
       "  <tbody>\n",
       "    <tr>\n",
       "      <td>17</td>\n",
       "      <td>Arizona</td>\n",
       "      <td>Diamondbacks</td>\n",
       "      <td>Arizona Diamondbacks</td>\n",
       "      <td>275</td>\n",
       "      <td>59</td>\n",
       "    </tr>\n",
       "    <tr>\n",
       "      <td>12</td>\n",
       "      <td>Atlanta</td>\n",
       "      <td>Braves</td>\n",
       "      <td>Atlanta Braves</td>\n",
       "      <td>344</td>\n",
       "      <td>56</td>\n",
       "    </tr>\n",
       "    <tr>\n",
       "      <td>28</td>\n",
       "      <td>Baltimore</td>\n",
       "      <td>Orioles</td>\n",
       "      <td>Baltimore Orioles</td>\n",
       "      <td>251</td>\n",
       "      <td>56</td>\n",
       "    </tr>\n",
       "    <tr>\n",
       "      <td>7</td>\n",
       "      <td>Boston</td>\n",
       "      <td>Red Sox</td>\n",
       "      <td>Boston Red Sox</td>\n",
       "      <td>516</td>\n",
       "      <td>94</td>\n",
       "    </tr>\n",
       "    <tr>\n",
       "      <td>4</td>\n",
       "      <td>Chicago</td>\n",
       "      <td>Cubs</td>\n",
       "      <td>Chicago Cubs</td>\n",
       "      <td>452</td>\n",
       "      <td>128</td>\n",
       "    </tr>\n",
       "  </tbody>\n",
       "</table>\n",
       "</div>"
      ],
      "text/plain": [
       "         team_cityname team_shortname       team_longname_x  revenue  \\\n",
       "team_key                                                               \n",
       "17             Arizona   Diamondbacks  Arizona Diamondbacks      275   \n",
       "12             Atlanta         Braves        Atlanta Braves      344   \n",
       "28           Baltimore        Orioles     Baltimore Orioles      251   \n",
       "7               Boston        Red Sox        Boston Red Sox      516   \n",
       "4              Chicago           Cubs          Chicago Cubs      452   \n",
       "\n",
       "          avg_ticket_price  \n",
       "team_key                    \n",
       "17                      59  \n",
       "12                      56  \n",
       "28                      56  \n",
       "7                       94  \n",
       "4                      128  "
      ]
     },
     "execution_count": 7,
     "metadata": {},
     "output_type": "execute_result"
    }
   ],
   "source": [
    "# Select Columns to Keep\n",
    "revenue_price = merged_revenue_price[[\"team_cityname\", \"team_shortname\", \"team_longname_x\", \"revenue\", \"avg_ticket_price\"]]\n",
    "revenue_price.head()"
   ]
  },
  {
   "cell_type": "code",
   "execution_count": 8,
   "metadata": {},
   "outputs": [],
   "source": [
    "revenueprice = revenue_price.rename(columns={\"team_longname_x\": \"team_longname\"})"
   ]
  },
  {
   "cell_type": "code",
   "execution_count": 9,
   "metadata": {},
   "outputs": [
    {
     "name": "stdout",
     "output_type": "stream",
     "text": [
      "<class 'pandas.core.frame.DataFrame'>\n",
      "Int64Index: 30 entries, 17 to 16\n",
      "Data columns (total 5 columns):\n",
      "team_cityname       30 non-null object\n",
      "team_shortname      30 non-null object\n",
      "team_longname       30 non-null object\n",
      "revenue             30 non-null int64\n",
      "avg_ticket_price    30 non-null int64\n",
      "dtypes: int64(2), object(3)\n",
      "memory usage: 1.4+ KB\n"
     ]
    }
   ],
   "source": [
    "# check out the datatypes in the new table \n",
    "revenueprice.info()"
   ]
  },
  {
   "cell_type": "code",
   "execution_count": 10,
   "metadata": {},
   "outputs": [],
   "source": [
    "# push the new table to the database\n",
    "revenueprice.to_sql(name='revenueprice', con=engine, if_exists='append', index=True)"
   ]
  },
  {
   "cell_type": "code",
   "execution_count": 11,
   "metadata": {},
   "outputs": [
    {
     "data": {
      "text/plain": [
       "['winslosses',\n",
       " 'attendance',\n",
       " 'revenue',\n",
       " 'payroll',\n",
       " 'salary',\n",
       " 'capacity',\n",
       " 'avgticketprice',\n",
       " 'capacityattendance',\n",
       " 'revenueprice',\n",
       " 'looktable']"
      ]
     },
     "execution_count": 11,
     "metadata": {},
     "output_type": "execute_result"
    }
   ],
   "source": [
    "# double check that it made it -- it did!! \n",
    "engine.table_names()"
   ]
  },
  {
   "cell_type": "code",
   "execution_count": null,
   "metadata": {},
   "outputs": [],
   "source": [
    "# Export file as a CSV, without the Pandas index, but with the header\n",
    "revenueprice.to_csv(\"revenueprice.csv\", index=False, header=True)"
   ]
  }
 ],
 "metadata": {
  "kernelspec": {
   "display_name": "Python 3",
   "language": "python",
   "name": "python3"
  },
  "language_info": {
   "codemirror_mode": {
    "name": "ipython",
    "version": 3
   },
   "file_extension": ".py",
   "mimetype": "text/x-python",
   "name": "python",
   "nbconvert_exporter": "python",
   "pygments_lexer": "ipython3",
   "version": "3.6.9"
  }
 },
 "nbformat": 4,
 "nbformat_minor": 2
}
